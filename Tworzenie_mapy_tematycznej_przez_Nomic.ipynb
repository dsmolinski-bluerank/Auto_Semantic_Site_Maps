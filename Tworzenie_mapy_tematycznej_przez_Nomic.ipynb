{
  "nbformat": 4,
  "nbformat_minor": 0,
  "metadata": {
    "colab": {
      "provenance": [],
      "include_colab_link": true
    },
    "kernelspec": {
      "name": "python3",
      "display_name": "Python 3"
    },
    "language_info": {
      "name": "python"
    }
  },
  "cells": [
    {
      "cell_type": "markdown",
      "metadata": {
        "id": "view-in-github",
        "colab_type": "text"
      },
      "source": [
        "<a href=\"https://colab.research.google.com/github/dsmolinski-bluerank/Auto_Semantic_Site_Maps/blob/main/Tworzenie_mapy_tematycznej_przez_Nomic.ipynb\" target=\"_parent\"><img src=\"https://colab.research.google.com/assets/colab-badge.svg\" alt=\"Open In Colab\"/></a>"
      ]
    },
    {
      "cell_type": "markdown",
      "source": [
        "Instalacja biblioteki Nomic & ustawienie klucza API."
      ],
      "metadata": {
        "id": "EilBgZd0N0lj"
      }
    },
    {
      "cell_type": "code",
      "source": [
        "!pip install nomic\n",
        "import pandas as pd\n",
        "import json\n",
        "import nomic\n",
        "from nomic import atlas"
      ],
      "metadata": {
        "colab": {
          "base_uri": "https://localhost:8080/"
        },
        "id": "Kce1jYemOPlc",
        "outputId": "66d4ed82-681f-4167-ba33-0708487ae5d5"
      },
      "execution_count": null,
      "outputs": [
        {
          "output_type": "stream",
          "name": "stdout",
          "text": [
            "Collecting nomic\n",
            "  Downloading nomic-3.0.35.tar.gz (43 kB)\n",
            "\u001b[?25l     \u001b[90m━━━━━━━━━━━━━━━━━━━━━━━━━━━━━━━━━━━━━━━━\u001b[0m \u001b[32m0.0/43.9 kB\u001b[0m \u001b[31m?\u001b[0m eta \u001b[36m-:--:--\u001b[0m\r\u001b[2K     \u001b[90m━━━━━━━━━━━━━━━━━━━━━━━━━━━━━━━━━━━━━━━━\u001b[0m \u001b[32m43.9/43.9 kB\u001b[0m \u001b[31m1.9 MB/s\u001b[0m eta \u001b[36m0:00:00\u001b[0m\n",
            "\u001b[?25h  Installing build dependencies ... \u001b[?25l\u001b[?25hdone\n",
            "  Getting requirements to build wheel ... \u001b[?25l\u001b[?25hdone\n",
            "  Preparing metadata (pyproject.toml) ... \u001b[?25l\u001b[?25hdone\n",
            "Requirement already satisfied: click in /usr/local/lib/python3.10/dist-packages (from nomic) (8.1.7)\n",
            "Collecting jsonlines (from nomic)\n",
            "  Downloading jsonlines-4.0.0-py3-none-any.whl (8.7 kB)\n",
            "Collecting loguru (from nomic)\n",
            "  Downloading loguru-0.7.2-py3-none-any.whl (62 kB)\n",
            "\u001b[2K     \u001b[90m━━━━━━━━━━━━━━━━━━━━━━━━━━━━━━━━━━━━━━━━\u001b[0m \u001b[32m62.5/62.5 kB\u001b[0m \u001b[31m6.7 MB/s\u001b[0m eta \u001b[36m0:00:00\u001b[0m\n",
            "\u001b[?25hRequirement already satisfied: rich in /usr/local/lib/python3.10/dist-packages (from nomic) (13.7.1)\n",
            "Requirement already satisfied: requests in /usr/local/lib/python3.10/dist-packages (from nomic) (2.31.0)\n",
            "Requirement already satisfied: numpy in /usr/local/lib/python3.10/dist-packages (from nomic) (1.25.2)\n",
            "Requirement already satisfied: pandas in /usr/local/lib/python3.10/dist-packages (from nomic) (2.0.3)\n",
            "Requirement already satisfied: pydantic in /usr/local/lib/python3.10/dist-packages (from nomic) (2.8.0)\n",
            "Requirement already satisfied: tqdm in /usr/local/lib/python3.10/dist-packages (from nomic) (4.66.4)\n",
            "Requirement already satisfied: pyarrow in /usr/local/lib/python3.10/dist-packages (from nomic) (14.0.2)\n",
            "Requirement already satisfied: pillow in /usr/local/lib/python3.10/dist-packages (from nomic) (9.4.0)\n",
            "Requirement already satisfied: pyjwt in /usr/lib/python3/dist-packages (from nomic) (2.3.0)\n",
            "Requirement already satisfied: attrs>=19.2.0 in /usr/local/lib/python3.10/dist-packages (from jsonlines->nomic) (23.2.0)\n",
            "Requirement already satisfied: python-dateutil>=2.8.2 in /usr/local/lib/python3.10/dist-packages (from pandas->nomic) (2.8.2)\n",
            "Requirement already satisfied: pytz>=2020.1 in /usr/local/lib/python3.10/dist-packages (from pandas->nomic) (2023.4)\n",
            "Requirement already satisfied: tzdata>=2022.1 in /usr/local/lib/python3.10/dist-packages (from pandas->nomic) (2024.1)\n",
            "Requirement already satisfied: annotated-types>=0.4.0 in /usr/local/lib/python3.10/dist-packages (from pydantic->nomic) (0.7.0)\n",
            "Requirement already satisfied: pydantic-core==2.20.0 in /usr/local/lib/python3.10/dist-packages (from pydantic->nomic) (2.20.0)\n",
            "Requirement already satisfied: typing-extensions>=4.6.1 in /usr/local/lib/python3.10/dist-packages (from pydantic->nomic) (4.12.2)\n",
            "Requirement already satisfied: charset-normalizer<4,>=2 in /usr/local/lib/python3.10/dist-packages (from requests->nomic) (3.3.2)\n",
            "Requirement already satisfied: idna<4,>=2.5 in /usr/local/lib/python3.10/dist-packages (from requests->nomic) (3.7)\n",
            "Requirement already satisfied: urllib3<3,>=1.21.1 in /usr/local/lib/python3.10/dist-packages (from requests->nomic) (2.0.7)\n",
            "Requirement already satisfied: certifi>=2017.4.17 in /usr/local/lib/python3.10/dist-packages (from requests->nomic) (2024.6.2)\n",
            "Requirement already satisfied: markdown-it-py>=2.2.0 in /usr/local/lib/python3.10/dist-packages (from rich->nomic) (3.0.0)\n",
            "Requirement already satisfied: pygments<3.0.0,>=2.13.0 in /usr/local/lib/python3.10/dist-packages (from rich->nomic) (2.16.1)\n",
            "Requirement already satisfied: mdurl~=0.1 in /usr/local/lib/python3.10/dist-packages (from markdown-it-py>=2.2.0->rich->nomic) (0.1.2)\n",
            "Requirement already satisfied: six>=1.5 in /usr/local/lib/python3.10/dist-packages (from python-dateutil>=2.8.2->pandas->nomic) (1.16.0)\n",
            "Building wheels for collected packages: nomic\n",
            "  Building wheel for nomic (pyproject.toml) ... \u001b[?25l\u001b[?25hdone\n",
            "  Created wheel for nomic: filename=nomic-3.0.35-py3-none-any.whl size=44364 sha256=dfb04a758f2ea8a1efc94354b95743add711c3f4c307867c4b5cbdfaaeed9765\n",
            "  Stored in directory: /root/.cache/pip/wheels/35/47/bf/bd1ad7c376e204b277fb13e8e09921a1e6b19b20dd42ee2c0d\n",
            "Successfully built nomic\n",
            "Installing collected packages: loguru, jsonlines, nomic\n",
            "Successfully installed jsonlines-4.0.0 loguru-0.7.2 nomic-3.0.35\n"
          ]
        }
      ]
    },
    {
      "cell_type": "markdown",
      "source": [
        "Klucz API Nomic. Wklei swój pomiędzy ''. Klucz można wygenerować w zakładce API Keys."
      ],
      "metadata": {
        "id": "gZhPgxQGO19f"
      }
    },
    {
      "cell_type": "code",
      "source": [
        "nomic.login('nk-ekec4mB-6qzrEbEhF4UzG6lImVo600rxHKEGzW_e5UA')  # Tu wklej swój klucz API z usługi nomic.ai"
      ],
      "metadata": {
        "id": "YqkPZHeAO3oh"
      },
      "execution_count": null,
      "outputs": []
    },
    {
      "cell_type": "markdown",
      "source": [
        "Skrypt do generowania mapy embeddingowej"
      ],
      "metadata": {
        "id": "u3o8dgRwOyx5"
      }
    },
    {
      "cell_type": "code",
      "execution_count": null,
      "metadata": {
        "colab": {
          "base_uri": "https://localhost:8080/"
        },
        "id": "-IueaniSNBcZ",
        "outputId": "2405f08d-5414-4710-e65b-8578bc332ec1"
      },
      "outputs": [
        {
          "output_type": "stream",
          "name": "stderr",
          "text": [
            "<ipython-input-4-25fad4ff935d>:28: SettingWithCopyWarning: \n",
            "A value is trying to be set on a copy of a slice from a DataFrame.\n",
            "Try using .loc[row_indexer,col_indexer] = value instead\n",
            "\n",
            "See the caveats in the documentation: https://pandas.pydata.org/pandas-docs/stable/user_guide/indexing.html#returning-a-view-versus-a-copy\n",
            "  filtered_df['indexed_field'] = filtered_df.apply(\n",
            "/usr/local/lib/python3.10/dist-packages/nomic/atlas.py:88: SettingWithCopyWarning: \n",
            "A value is trying to be set on a copy of a slice from a DataFrame.\n",
            "Try using .loc[row_indexer,col_indexer] = value instead\n",
            "\n",
            "See the caveats in the documentation: https://pandas.pydata.org/pandas-docs/stable/user_guide/indexing.html#returning-a-view-versus-a-copy\n",
            "  data[id_field] = [b64int(i) for i in range(data.shape[0])]\n",
            "\u001b[32m2024-07-04 12:26:28.487\u001b[0m | \u001b[33m\u001b[1mWARNING \u001b[0m | \u001b[36mnomic.atlas\u001b[0m:\u001b[36mmap_data\u001b[0m:\u001b[36m98\u001b[0m - \u001b[33m\u001b[1mAn ID field was not specified in your data so one was generated for you in insertion order.\u001b[0m\n"
          ]
        },
        {
          "output_type": "stream",
          "name": "stdout",
          "text": [
            "Kolumny w results_df: Index(['index', 'url', 'status', 'data.code', 'data.status', 'data.data.title',\n",
            "       'data.data.url', 'data.data.content', 'data.data.publishedTime',\n",
            "       'data'],\n",
            "      dtype='object')\n",
            "                                                 url  \\\n",
            "0                    https://www.senuto.com/pl/blog/   \n",
            "1  https://www.senuto.com/pl/blog/jak-poprawic-se...   \n",
            "2  https://www.senuto.com/pl/blog/analiza-konkure...   \n",
            "3     https://www.senuto.com/pl/blog/slowa-kluczowe/   \n",
            "4  https://www.senuto.com/pl/blog/co-to-jest-digi...   \n",
            "\n",
            "                                               title  \\\n",
            "0   Blog o SEO, pozycjonowaniu i marketingu | Senuto   \n",
            "1  Jak poprawić SEO strony, wyciskając więcej z W...   \n",
            "2  Analiza konkurencji – jak zdobyć przewagę na r...   \n",
            "3  Słowa kluczowe w SEO – gdzie ich szukać i jak ...   \n",
            "4                      Co to jest digital marketing?   \n",
            "\n",
            "                                             content  \n",
            "0  🔥 Zgarnij podwójną premię: dodatkowe 10% rabat...  \n",
            "1  Jak skutecznie korzystać z Writera Senuto, zwi...  \n",
            "2  W przyrodzie i biznesie działa zasada, według ...  \n",
            "3  **Słowa kluczowe** to jedna z najczęściej używ...  \n",
            "4  Digital marketing jest z nami nie od dziś! Ale...  \n"
          ]
        },
        {
          "output_type": "stream",
          "name": "stderr",
          "text": [
            "\u001b[32m2024-07-04 12:26:30.559\u001b[0m | \u001b[1mINFO    \u001b[0m | \u001b[36mnomic.dataset\u001b[0m:\u001b[36m_create_project\u001b[0m:\u001b[36m850\u001b[0m - \u001b[1mCreating dataset `dynamic-lecun`\u001b[0m\n",
            "\u001b[32m2024-07-04 12:26:30.926\u001b[0m | \u001b[1mINFO    \u001b[0m | \u001b[36mnomic.atlas\u001b[0m:\u001b[36mmap_data\u001b[0m:\u001b[36m110\u001b[0m - \u001b[1mUploading data to Atlas.\u001b[0m\n",
            "\u001b[32m2024-07-04 12:26:30.973\u001b[0m | \u001b[33m\u001b[1mWARNING \u001b[0m | \u001b[36mnomic.dataset\u001b[0m:\u001b[36m_validate_and_correct_arrow_upload\u001b[0m:\u001b[36m310\u001b[0m - \u001b[33m\u001b[1mReplacing 361 null values for field title with string 'null'. This behavior will change in a future version.\u001b[0m\n",
            "\u001b[32m2024-07-04 12:26:30.980\u001b[0m | \u001b[33m\u001b[1mWARNING \u001b[0m | \u001b[36mnomic.dataset\u001b[0m:\u001b[36m_validate_and_correct_arrow_upload\u001b[0m:\u001b[36m310\u001b[0m - \u001b[33m\u001b[1mReplacing 361 null values for field content with string 'null'. This behavior will change in a future version.\u001b[0m\n",
            "1it [00:01,  1.03s/it]\n",
            "\u001b[32m2024-07-04 12:26:32.032\u001b[0m | \u001b[1mINFO    \u001b[0m | \u001b[36mnomic.dataset\u001b[0m:\u001b[36m_add_data\u001b[0m:\u001b[36m1529\u001b[0m - \u001b[1mUpload succeeded.\u001b[0m\n",
            "\u001b[32m2024-07-04 12:26:32.036\u001b[0m | \u001b[1mINFO    \u001b[0m | \u001b[36mnomic.atlas\u001b[0m:\u001b[36mmap_data\u001b[0m:\u001b[36m125\u001b[0m - \u001b[1m`dsalkowski/dynamic-lecun`: Data upload succeeded to dataset`\u001b[0m\n",
            "\u001b[32m2024-07-04 12:26:33.914\u001b[0m | \u001b[1mINFO    \u001b[0m | \u001b[36mnomic.dataset\u001b[0m:\u001b[36mcreate_index\u001b[0m:\u001b[36m1233\u001b[0m - \u001b[1mCreated map `dynamic-lecun` in dataset `dsalkowski/dynamic-lecun`: https://atlas.nomic.ai/data/dsalkowski/dynamic-lecun/map\u001b[0m\n"
          ]
        },
        {
          "output_type": "stream",
          "name": "stdout",
          "text": [
            "dynamic-lecun: https://atlas.nomic.ai/data/dsalkowski/dynamic-lecun\n"
          ]
        }
      ],
      "source": [
        "def main():\n",
        "    # Załaduj dane z pliku JSON\n",
        "    with open('/content/api_results_partial (8).json', 'r') as file:\n",
        "        data = json.load(file)\n",
        "\n",
        "    # Tworzenie DataFrame z danymi z pliku JSON\n",
        "    results_df = pd.json_normalize(data)\n",
        "\n",
        "    # Debugowanie: Wyświetlanie wszystkich kolumn w DataFrame\n",
        "    print(\"Kolumny w results_df:\", results_df.columns)\n",
        "\n",
        "    # Wyodrębnianie wymaganych kolumn\n",
        "    results_df['title'] = results_df['data.data.title']\n",
        "    results_df['content'] = results_df['data.data.content']\n",
        "    results_df['url'] = results_df['url']\n",
        "\n",
        "    required_columns = {'url', 'title', 'content'}\n",
        "\n",
        "    # Sprawdzenie, czy wszystkie wymagane kolumny są obecne w DataFrame\n",
        "    if required_columns.issubset(results_df.columns):\n",
        "        filtered_df = results_df[['url', 'title', 'content']]\n",
        "\n",
        "        if not filtered_df.empty:\n",
        "            # Sprawdzenie struktury DataFrame\n",
        "            print(filtered_df.head())\n",
        "\n",
        "            # Łączenie kolumn 'url', 'title' i 'content' w jedną kolumnę 'indexed_field'\n",
        "            filtered_df['indexed_field'] = filtered_df.apply(\n",
        "                lambda row: f\"{row['url']} {row['title']} {row['content']}\", axis=1\n",
        "            )\n",
        "\n",
        "            # Przekazanie danych do atlas.map_data, używając nowo utworzonej kolumny 'indexed_field'\n",
        "            dataset = atlas.map_data(data=filtered_df, indexed_field='indexed_field')\n",
        "            print(dataset)\n",
        "        else:\n",
        "            print(\"Brak danych do przetworzenia.\")\n",
        "    else:\n",
        "        missing_columns = required_columns - set(results_df.columns)\n",
        "        print(f\"Brakujące kolumny: {missing_columns}\")\n",
        "\n",
        "if __name__ == \"__main__\":\n",
        "    main()\n"
      ]
    }
  ]
}